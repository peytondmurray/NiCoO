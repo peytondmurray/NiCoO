{
 "cells": [
  {
   "cell_type": "code",
   "execution_count": 3,
   "metadata": {},
   "outputs": [],
   "source": [
    "from CifFile import ReadCif\n",
    "import json\n",
    "import random\n",
    "\n",
    "fname = \"NiO_mp-715434_conventional_standard.cif\"\n",
    "\n",
    "def cif_to_json(input_fname, output_fname):\n",
    "    cif = ReadCif(input_fname)\n",
    "    if len(cif.keys()) != 1:\n",
    "        raise IOError(\"cif file should contain only one structure.\")\n",
    "    \n",
    "    compound = cif[cif.keys()[0]]\n",
    "    \n",
    "    a = float(compound['_cell_length_a'])\n",
    "    b = float(compound['_cell_length_b'])\n",
    "    c = float(compound['_cell_length_c'])\n",
    "    \n",
    "    atoms = []\n",
    "    \n",
    "    for atom, x, y, z in zip(compound['_atom_site_type_symbol'], compound['_atom_site_fract_x'], compound['_atom_site_fract_y'], compound['_atom_site_fract_z']):\n",
    "        atoms.append({\"element\":atom, \"location\":[float(x)*a, float(y)*b, float(z)*c]})\n",
    "\n",
    "    sizes = {'Ni':1.24, \n",
    "             'Co':1.25,\n",
    "             'O':0.66}\n",
    "    \n",
    "    rgb = {'Ni': (132, 116, 23),\n",
    "           'Co': (112, 31, 163),\n",
    "           'O': (31, 88, 163)}\n",
    "    \n",
    "    cell = {'a':a, 'b':b, 'c':c}\n",
    "    \n",
    "    colors = {key:[val/255 for val in value] + [1.0] for key, value in rgb.items()}\n",
    "    struct = {\"atoms\":atoms, \"sizes\":sizes, \"colors\":colors, 'cell':cell}\n",
    "    \n",
    "    if output_fname is None:\n",
    "        return json.dumps(struct)\n",
    "    else:\n",
    "        with open(output_fname, 'w') as f:\n",
    "            json.dump(struct, f)\n",
    "        return\n",
    "\n",
    "\n",
    "ybco = cif_to_json(fname, 'NiCoO.json')"
   ]
  },
  {
   "cell_type": "code",
   "execution_count": null,
   "metadata": {},
   "outputs": [],
   "source": []
  }
 ],
 "metadata": {
  "kernelspec": {
   "display_name": "Python 3",
   "language": "python",
   "name": "python3"
  },
  "language_info": {
   "codemirror_mode": {
    "name": "ipython",
    "version": 3
   },
   "file_extension": ".py",
   "mimetype": "text/x-python",
   "name": "python",
   "nbconvert_exporter": "python",
   "pygments_lexer": "ipython3",
   "version": "3.6.4"
  }
 },
 "nbformat": 4,
 "nbformat_minor": 2
}
