{
 "cells": [
  {
   "cell_type": "code",
   "execution_count": 57,
   "metadata": {},
   "outputs": [],
   "source": [
    "# %pdb\n",
    "%matplotlib qt\n",
    "\n",
    "import numpy as np\n",
    "import scipy.ndimage as sn\n",
    "import matplotlib.pyplot as plt\n",
    "import pathlib as pl\n",
    "import PIL"
   ]
  },
  {
   "cell_type": "code",
   "execution_count": 58,
   "metadata": {},
   "outputs": [],
   "source": [
    "ag_path = pl.Path('As Grown/Plain/')\n",
    "fc_wide_path = pl.Path('Field Cooled/EELS_wide')\n",
    "fc_close_path = pl.Path('Field Cooled/EELS_close')\n",
    "fcvc_wide_path = pl.Path('Field Cooled Voltage Conditioned/EELS_wide')\n",
    "fcvc_close_path = pl.Path('Field Cooled Voltage Conditioned/EELS_close')\n",
    "\n",
    "ag_names = [name for name in ag_path.iterdir() if 'EELS_' in name.name]\n",
    "fc_wide_names = [name for name in fc_wide_path.iterdir() if 'EELS_' in name.name]\n",
    "fc_close_names = [name for name in fc_close_path.iterdir() if 'EELS_' in name.name]\n",
    "fcvc_wide_names = [name for name in fcvc_wide_path.iterdir() if 'EELS_' in name.name]\n",
    "fcvc_close_names = [name for name in fcvc_close_path.iterdir() if 'EELS_' in name.name]\n",
    "\n",
    "ag_image = ag_path / 'EELS.png'\n",
    "fc_wide_image = fc_wide_path / 'EELS.png'\n",
    "fc_close_image = fc_close_path / 'EELS.png'\n",
    "fcvc_wide_image = fcvc_wide_path / 'EELS.png'\n",
    "fcvc_close_image = fcvc_close_path / 'EELS.png'\n",
    "\n",
    "images_sizes = [(324.05, 32.86), (128.30, 6.03), (6.67, 2.29), (133.90, 6.67), (20.50, 2.77)] # (x, y) sizes of the images, in nm\n",
    "images_list = [ag_image, fc_wide_image, fc_close_image, fcvc_wide_image, fcvc_close_image]\n",
    "eels_names_list = [ag_names, fc_wide_names, fc_close_names, fcvc_wide_names, fcvc_close_names]\n",
    "labels_list = [\"As Grown\", \"Field Cooled\", \"Field Cooled\", \"Field Cooled+Voltage Conditioned\", \"Field Cooled+Voltage Conditioned\"]\n",
    "\n",
    "keys = ['AG', 'FC_wide', 'FC_close', 'FCVC_wide', 'FCVC_close']"
   ]
  },
  {
   "cell_type": "code",
   "execution_count": 59,
   "metadata": {},
   "outputs": [],
   "source": [
    "def load_image(path):\n",
    "    return np.array(PIL.Image.open(path).convert('L'))\n",
    "\n",
    "def integrate_y(arr, normalize=True):\n",
    "    integral = np.sum(arr, axis=0)\n",
    "    \n",
    "    if normalize:\n",
    "        sorted_integral = np.sort(integral)\n",
    "        median_of_top_bins = np.median(sorted_integral[-50:])\n",
    "        median_of_bottom_bins = np.median(sorted_integral[:50])\n",
    "        return (integral - median_of_bottom_bins)/(median_of_top_bins-median_of_bottom_bins) # Normalize the integral\n",
    "    else:\n",
    "        return integral\n",
    "\n",
    "def add_to_plot(ax, path):\n",
    "    colors = get_element_colors()\n",
    "    linestyles = get_element_linestyles()\n",
    "    element = get_element(path)\n",
    "    if element == 'Al':\n",
    "        return\n",
    "    ax.plot(integrate_y(load_image(path)),\n",
    "            linestyle=linestyles[element],\n",
    "            color=colors[element],\n",
    "            marker='',\n",
    "            label=element,\n",
    "            linewidth=3)\n",
    "    return\n",
    "\n",
    "def get_element(path):\n",
    "    return path.stem.split('_')[-1].capitalize()\n",
    "\n",
    "def get_element_colors():\n",
    "    colors = {'Si': 'black',\n",
    "              'Co': 'midnightblue',\n",
    "              'Ni': 'darkgreen',\n",
    "              'Pt': 'grey',\n",
    "              'Gd': 'darkgoldenrod',\n",
    "              'O': 'sienna',\n",
    "              'Al': 'red'}\n",
    "    return colors\n",
    "\n",
    "def get_element_linestyles():\n",
    "    colors = {'Si': '-',\n",
    "              'Co': '-',\n",
    "              'Ni': '-',\n",
    "              'Pt': '-',\n",
    "              'Gd': '-',\n",
    "              'O': '-',\n",
    "              'Al': '-'}\n",
    "    return colors\n",
    "\n",
    "def generate_data_structure(normalize=False):\n",
    "    data = dict()\n",
    "    for key, image, element_paths, (image_size_x, image_size_y) in zip(keys, images_list, eels_names_list, images_sizes):\n",
    "        data[key] = dict()\n",
    "        for element_path in element_paths:\n",
    "            element = get_element(element_path)\n",
    "            data[key][element] = integrate_y(load_image(element_path), normalize=normalize)\n",
    "        data[key]['image'] = image\n",
    "        data[key]['image_size'] = image_size_x\n",
    "    return data"
   ]
  },
  {
   "cell_type": "code",
   "execution_count": 60,
   "metadata": {},
   "outputs": [],
   "source": [
    "def generate_EELS_distribution(tem_image_path, element_image_paths):\n",
    "    fig, axes = plt.subplots(2,1,figsize=(10,6), sharex=True)\n",
    "    img = load_image(tem_image_path)\n",
    "    axes[0].imshow(img, cmap='Greys_r', aspect='auto', interpolation='nearest')\n",
    "    for path in element_image_paths:\n",
    "        add_to_plot(axes[1], path)\n",
    "    axes[1].legend(prop={'size': 20})\n",
    "    axes[0].set_yticklabels([])\n",
    "    axes[1].set_yticklabels([])\n",
    "    axes[1].set_ylabel('Normalized Intensity (a.u.)', size='x-large')\n",
    "    axes[0].set_xlim([0,img.shape[1]])\n",
    "    plt.tight_layout()\n",
    "    return"
   ]
  },
  {
   "cell_type": "code",
   "execution_count": 27,
   "metadata": {},
   "outputs": [],
   "source": [
    "for image, name, label in zip(images_list, eels_names_list, labels_list):\n",
    "    generate_EELS_distribution(image, name)\n",
    "    plt.xlabel(label, size='xx-large')\n",
    "\n",
    "# generate_EELS_distribution(ag_image, ag_names)\n",
    "# plt.xlabel(\"As Grown\", size='xx-large')"
   ]
  },
  {
   "cell_type": "code",
   "execution_count": 53,
   "metadata": {},
   "outputs": [
    {
     "data": {
      "text/plain": [
       "dict_keys(['AG', 'FC_wide', 'FC_close', 'FCVC_wide', 'FCVC_close'])"
      ]
     },
     "execution_count": 53,
     "metadata": {},
     "output_type": "execute_result"
    }
   ],
   "source": [
    "data = generate_data_structure(normalize=True)\n",
    "data.keys()"
   ]
  },
  {
   "cell_type": "code",
   "execution_count": 69,
   "metadata": {},
   "outputs": [],
   "source": [
    "for sample in ['AG', 'FC_wide', 'FCVC_wide']:\n",
    "    fig = plt.figure(figsize=(10, 6))\n",
    "    ax = fig.add_subplot(111)\n",
    "    for key, value in data[sample].items():\n",
    "        if key not in ['image', 'image_size', 'Al']:\n",
    "            ax.plot(np.linspace(0, data[sample]['image_size'], value.shape[0]),\n",
    "#                     value,\n",
    "                    sn.convolve(value, np.ones(40)/40, mode='nearest'), \n",
    "                    color=get_element_colors()[key], \n",
    "                    label=key)\n",
    "    ax.set_xlim([0, data[sample]['image_size']])\n",
    "    ax.legend()\n",
    "    ax.set_title(sample)"
   ]
  },
  {
   "cell_type": "code",
   "execution_count": null,
   "metadata": {},
   "outputs": [],
   "source": []
  }
 ],
 "metadata": {
  "kernelspec": {
   "display_name": "Python 3",
   "language": "python",
   "name": "python3"
  },
  "language_info": {
   "codemirror_mode": {
    "name": "ipython",
    "version": 3
   },
   "file_extension": ".py",
   "mimetype": "text/x-python",
   "name": "python",
   "nbconvert_exporter": "python",
   "pygments_lexer": "ipython3",
   "version": "3.6.6"
  }
 },
 "nbformat": 4,
 "nbformat_minor": 2
}
