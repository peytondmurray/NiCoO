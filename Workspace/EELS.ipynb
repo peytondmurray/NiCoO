{
 "cells": [
  {
   "cell_type": "code",
   "execution_count": 1,
   "metadata": {},
   "outputs": [],
   "source": [
    "# %pdb\n",
    "%matplotlib qt\n",
    "import numpy as np\n",
    "import matplotlib.pyplot as plt\n",
    "import pathlib as pl\n",
    "import PIL\n",
    "import pandas as pd"
   ]
  },
  {
   "cell_type": "code",
   "execution_count": 2,
   "metadata": {},
   "outputs": [],
   "source": [
    "TEM_root = pl.Path(\"../Figures/TEM/Junwei's Images\")\n",
    "\n",
    "ag_path = TEM_root / pl.Path('As Grown/Plain/')\n",
    "fc_wide_path = TEM_root / pl.Path('Field Cooled/EELS_wide')\n",
    "fc_close_path = TEM_root / pl.Path('Field Cooled/EELS_close')\n",
    "fcvc_wide_path = TEM_root / pl.Path('Field Cooled Voltage Conditioned/EELS_wide')\n",
    "fcvc_close_path = TEM_root / pl.Path('Field Cooled Voltage Conditioned/EELS_close')\n",
    "\n",
    "ag_names = [name for name in ag_path.iterdir() if 'EELS_' in name.name]\n",
    "fc_wide_names = [name for name in fc_wide_path.iterdir() if 'EELS_' in name.name]\n",
    "fc_close_names = [name for name in fc_close_path.iterdir() if 'EELS_' in name.name]\n",
    "fcvc_wide_names = [name for name in fcvc_wide_path.iterdir() if 'EELS_' in name.name]\n",
    "fcvc_close_names = [name for name in fcvc_close_path.iterdir() if 'EELS_' in name.name]\n",
    "\n",
    "ag_image = ag_path / 'EELS.png'\n",
    "fc_wide_image = fc_wide_path / 'EELS.png'\n",
    "fc_close_image = fc_close_path / 'EELS.png'\n",
    "fcvc_wide_image = fcvc_wide_path / 'EELS.png'\n",
    "fcvc_close_image = fcvc_close_path / 'EELS.png'\n",
    "\n",
    "images_list = [ag_image, fc_wide_image, fc_close_image, fcvc_wide_image, fcvc_close_image]\n",
    "eels_names_list = [ag_names, fc_wide_names, fc_close_names, fcvc_wide_names, fcvc_close_names]\n",
    "labels_list = [\"As Grown\", \"Field Cooled\", \"Field Cooled\", \"Field Cooled+Voltage Conditioned\", \"Field Cooled+Voltage Conditioned\"]\n",
    "\n",
    "keys = ['AG', 'FC_wide', 'FC_close', 'FCVC_wide', 'FCVC_close']\n",
    "image_sizes = {'AG': 334, 'FC_wide': 329, 'FC_close': 6.53, 'FCVC_wide': 276, 'FCVC_close': 20.4}\n",
    "\n",
    "\n",
    "element_linestyles = {'Si': '-', 'Co': '-', 'Ni': '-', 'Pt': '-', 'Gd': '-', 'O': '-', 'Al': '-'}\n",
    "element_colors = {'Si': 'black','Co': 'midnightblue','Ni': 'darkgreen','Pt': 'grey','Gd': 'darkgoldenrod','O': 'sienna','Al': 'red'}\n"
   ]
  },
  {
   "cell_type": "code",
   "execution_count": 3,
   "metadata": {},
   "outputs": [],
   "source": [
    "def load_image(path):\n",
    "    return np.array(PIL.Image.open(path).convert('L'))\n",
    "\n",
    "def integrate_y(arr, normalize=True):\n",
    "    integral = np.sum(arr, axis=0)\n",
    "    \n",
    "    if normalize:\n",
    "        sorted_integral = np.sort(integral)\n",
    "        median_of_top_bins = np.median(sorted_integral[-50:])\n",
    "        median_of_bottom_bins = np.median(sorted_integral[:50])\n",
    "        return (integral - median_of_bottom_bins)/(median_of_top_bins-median_of_bottom_bins) # Normalize the integral\n",
    "    else:\n",
    "        return integral\n",
    "\n",
    "def get_element(path):\n",
    "    return path.stem.split('_')[-1].capitalize()\n",
    "\n",
    "def generate_data_structure():\n",
    "    data = dict()\n",
    "    for key, image, element_paths in zip(keys, images_list, eels_names_list):\n",
    "        data[key] = pd.DataFrame()\n",
    "        for element_path in element_paths:\n",
    "            element = get_element(element_path)\n",
    "            data[key][element] = integrate_y(load_image(element_path), normalize=False)\n",
    "#         data[key]['image'] = image\n",
    "    return data\n",
    "\n",
    "def write_pandas_data(data, output_dir):\n",
    "    for key, df in data.items():\n",
    "        with open('{}/{}_{}'.format(pl.Path(output_dir).as_posix(), key, 'EELS_table.csv'), 'w') as f:\n",
    "            df.to_csv(f, index=False)"
   ]
  },
  {
   "cell_type": "code",
   "execution_count": 4,
   "metadata": {},
   "outputs": [],
   "source": [
    "# data = generate_data_structure()\n",
    "# write_pandas_data(data, '/home/pdmurray/Desktop/peyton/Projects/NiCoO_ElectricalEB/Workspace/')"
   ]
  },
  {
   "cell_type": "code",
   "execution_count": 5,
   "metadata": {},
   "outputs": [
    {
     "data": {
      "text/plain": [
       "dict_keys(['AG', 'FC_wide', 'FC_close', 'FCVC_wide', 'FCVC_close'])"
      ]
     },
     "execution_count": 5,
     "metadata": {},
     "output_type": "execute_result"
    }
   ],
   "source": [
    "data = generate_data_structure()\n",
    "data.keys()"
   ]
  },
  {
   "cell_type": "code",
   "execution_count": null,
   "metadata": {},
   "outputs": [],
   "source": []
  }
 ],
 "metadata": {
  "kernelspec": {
   "display_name": "Python 3",
   "language": "python",
   "name": "python3"
  },
  "language_info": {
   "codemirror_mode": {
    "name": "ipython",
    "version": 3
   },
   "file_extension": ".py",
   "mimetype": "text/x-python",
   "name": "python",
   "nbconvert_exporter": "python",
   "pygments_lexer": "ipython3",
   "version": "3.6.5"
  }
 },
 "nbformat": 4,
 "nbformat_minor": 2
}
