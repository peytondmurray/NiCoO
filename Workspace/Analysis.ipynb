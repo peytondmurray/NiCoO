{
 "cells": [
  {
   "cell_type": "code",
   "execution_count": 2,
   "metadata": {},
   "outputs": [],
   "source": [
    "%matplotlib qt\n",
    "import matplotlib.pyplot as plt\n",
    "import pandas as pd\n",
    "import numpy as np\n",
    "import pathlib as pl"
   ]
  },
  {
   "cell_type": "code",
   "execution_count": 3,
   "metadata": {},
   "outputs": [],
   "source": [
    "EELS_paths = ['AG', 'FC_close', 'FC_wide', 'FCVC_close', 'FCVC_wide']\n",
    "EELS_data = {key: pd.read_csv('{}_EELS_table.csv'.format(key)) for key in EELS_paths}\n",
    "\n",
    "# From Lange's Handbook of Chemistry\n",
    "deltaH_CoO = -237.7\n",
    "deltaG_CoO = -214.0\n",
    "deltaH_NiO = -240.6\n",
    "deltaG_NiO = -211.7\n",
    "deltaH_Ni2O3 = -489.5\n",
    "deltaG_Ni2O3 = None\n",
    "deltaH_Co3O4 = -891\n",
    "deltaG_Co304 = -774"
   ]
  },
  {
   "cell_type": "code",
   "execution_count": 4,
   "metadata": {},
   "outputs": [],
   "source": [
    "def d_hex(h, k, l):\n",
    "    return 1/(((h**2 + k**2)/0.363) + (l**2)/0.578)"
   ]
  },
  {
   "cell_type": "code",
   "execution_count": 5,
   "metadata": {},
   "outputs": [],
   "source": [
    "def print_spacings():\n",
    "    for h in range(3):\n",
    "        for k in range(3):\n",
    "            for l in range(3):\n",
    "                if h == k == l == 0:\n",
    "                    continue\n",
    "                else:\n",
    "                    print('({}{}{})\\t{}'.format(h, k, l, d_hex(h, k, l)))"
   ]
  },
  {
   "cell_type": "code",
   "execution_count": 7,
   "metadata": {},
   "outputs": [
    {
     "data": {
      "text/plain": [
       "-355.8000000000002"
      ]
     },
     "execution_count": 7,
     "metadata": {},
     "output_type": "execute_result"
    }
   ],
   "source": [
    "2*deltaH_Co3O4 - 6*deltaH_CoO "
   ]
  },
  {
   "cell_type": "code",
   "execution_count": 16,
   "metadata": {},
   "outputs": [
    {
     "data": {
      "text/plain": [
       "4.12286126571841e-08"
      ]
     },
     "execution_count": 16,
     "metadata": {},
     "output_type": "execute_result"
    }
   ],
   "source": [
    "10e-6/((0.7**2)*(495))"
   ]
  },
  {
   "cell_type": "code",
   "execution_count": null,
   "metadata": {},
   "outputs": [],
   "source": []
  }
 ],
 "metadata": {
  "kernelspec": {
   "display_name": "Python 3",
   "language": "python",
   "name": "python3"
  },
  "language_info": {
   "codemirror_mode": {
    "name": "ipython",
    "version": 3
   },
   "file_extension": ".py",
   "mimetype": "text/x-python",
   "name": "python",
   "nbconvert_exporter": "python",
   "pygments_lexer": "ipython3",
   "version": "3.6.5"
  }
 },
 "nbformat": 4,
 "nbformat_minor": 2
}
