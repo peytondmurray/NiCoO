{
 "cells": [
  {
   "cell_type": "code",
   "execution_count": 1,
   "metadata": {},
   "outputs": [],
   "source": [
    "%matplotlib inline\n",
    "import matplotlib.pyplot as plt\n",
    "import numpy as np\n",
    "\n",
    "Gd_a = 0.3636\n",
    "Gd_c = 0.578\n",
    "\n",
    "Gd_thickness = 20"
   ]
  },
  {
   "cell_type": "code",
   "execution_count": 2,
   "metadata": {},
   "outputs": [
    {
     "data": {
      "text/plain": [
       "4.618582095296744"
      ]
     },
     "execution_count": 2,
     "metadata": {},
     "output_type": "execute_result"
    }
   ],
   "source": [
    "6/1.2991"
   ]
  },
  {
   "cell_type": "code",
   "execution_count": 3,
   "metadata": {},
   "outputs": [
    {
     "data": {
      "text/plain": [
       "3.0790547301978295"
      ]
     },
     "execution_count": 3,
     "metadata": {},
     "output_type": "execute_result"
    }
   ],
   "source": [
    "4/1.2991"
   ]
  },
  {
   "cell_type": "code",
   "execution_count": 4,
   "metadata": {},
   "outputs": [
    {
     "data": {
      "text/plain": [
       "8.359456635318704"
      ]
     },
     "execution_count": 4,
     "metadata": {},
     "output_type": "execute_result"
    }
   ],
   "source": [
    "4/0.4785"
   ]
  },
  {
   "cell_type": "code",
   "execution_count": 5,
   "metadata": {},
   "outputs": [
    {
     "data": {
      "text/plain": [
       "12.539184952978056"
      ]
     },
     "execution_count": 5,
     "metadata": {},
     "output_type": "execute_result"
    }
   ],
   "source": [
    "6/0.4785"
   ]
  },
  {
   "cell_type": "markdown",
   "metadata": {},
   "source": [
    "$M=\\frac{m}{tA}$ $\\rightarrow$ $t = \\frac{m}{MA}$"
   ]
  },
  {
   "cell_type": "code",
   "execution_count": 4,
   "metadata": {},
   "outputs": [],
   "source": [
    "moment = 7e-6 # emu\n",
    "area = 0.7**2 # cm^2\n",
    "M_Co = 1400 # emu/cm^3\n",
    "M_Ni = 490 # emu/cm^3\n",
    "M_NiCo = 0.5*(M_Co+M_Ni)"
   ]
  },
  {
   "cell_type": "code",
   "execution_count": 5,
   "metadata": {},
   "outputs": [
    {
     "data": {
      "text/plain": [
       "1.0204081632653063e-08"
      ]
     },
     "execution_count": 5,
     "metadata": {},
     "output_type": "execute_result"
    }
   ],
   "source": [
    "moment/(area*M_Co) # Thickness in cm"
   ]
  },
  {
   "cell_type": "code",
   "execution_count": 6,
   "metadata": {},
   "outputs": [
    {
     "data": {
      "text/plain": [
       "2.915451895043732e-08"
      ]
     },
     "execution_count": 6,
     "metadata": {},
     "output_type": "execute_result"
    }
   ],
   "source": [
    "moment/(area*M_Ni) # Thickness in cm"
   ]
  },
  {
   "cell_type": "code",
   "execution_count": 7,
   "metadata": {},
   "outputs": [
    {
     "data": {
      "text/plain": [
       "1.511715797430083e-08"
      ]
     },
     "execution_count": 7,
     "metadata": {},
     "output_type": "execute_result"
    }
   ],
   "source": [
    "moment/(area*M_NiCo) # Thickness in cm"
   ]
  },
  {
   "cell_type": "markdown",
   "metadata": {},
   "source": [
    "The thickness of the interfacial magnetic layer is between 1.3 and 3.6 Å."
   ]
  },
  {
   "cell_type": "markdown",
   "metadata": {},
   "source": [
    "The Ni and Co EELS signals saturate deep in the NiCoO layer. Although this saturated region may not correspond to equal Ni and Co ratios, the signals near the NiCoO/Gd interface diverge from one another. If the ratio between the elements stayed the same, the ratio of their signals should stay the same - but the fact that it does not means the Ni and Co become segregated near the interface."
   ]
  },
  {
   "cell_type": "markdown",
   "metadata": {},
   "source": [
    "Exchange bias:\n",
    "\n",
    "$H_b = \\frac{2z \\sqrt{AK}}{\\pi^2 M_F t_F}$\n",
    "\n",
    "\n",
    "$H_b^f / H_b^i = M_F^i t_F^i / M_F^f t_F^f$\n"
   ]
  },
  {
   "cell_type": "code",
   "execution_count": 2,
   "metadata": {},
   "outputs": [
    {
     "data": {
      "text/plain": [
       "1.154228855721393"
      ]
     },
     "execution_count": 2,
     "metadata": {},
     "output_type": "execute_result"
    }
   ],
   "source": [
    "232/201 # 15% change in bias in sample A"
   ]
  },
  {
   "cell_type": "code",
   "execution_count": 3,
   "metadata": {},
   "outputs": [
    {
     "data": {
      "text/plain": [
       "1.088339222614841"
      ]
     },
     "execution_count": 3,
     "metadata": {},
     "output_type": "execute_result"
    }
   ],
   "source": [
    "308/283 # 9% change in bias in sample A"
   ]
  },
  {
   "cell_type": "code",
   "execution_count": 9,
   "metadata": {},
   "outputs": [
    {
     "data": {
      "text/plain": [
       "818.7284482758621"
      ]
     },
     "execution_count": 9,
     "metadata": {},
     "output_type": "execute_result"
    }
   ],
   "source": [
    "M_NiCo*(201/232)"
   ]
  },
  {
   "cell_type": "code",
   "execution_count": 10,
   "metadata": {},
   "outputs": [
    {
     "data": {
      "text/plain": [
       "945.0"
      ]
     },
     "execution_count": 10,
     "metadata": {},
     "output_type": "execute_result"
    }
   ],
   "source": [
    "M_NiCo"
   ]
  },
  {
   "cell_type": "code",
   "execution_count": 1,
   "metadata": {},
   "outputs": [],
   "source": [
    "a_NiO = 0.419e-9 # NiO lattice constant in m\n",
    "a_Ni = 0.352e-9 # Ni lattice constant in m\n",
    "\n",
    "mm_NiO = 74.6928/1000 # NiO molar mass, kg/mol\n",
    "\n",
    "\n",
    "k_Pt = 71.6\n",
    "k_Co = 100\n",
    "k_Ni = 90.9\n",
    "k_Gd = 10.5 # Thermal conductivity W/(m*K) @ 25 C\n",
    "k_Al2O3 = 50 W/(m*K)\n",
    "\n",
    "d_Ni = 8.908 # density g/cm3\n",
    "d_NiO = 6.67\n",
    "d_Gd = 7.90\n",
    "d_Al2O3 = 3.95\n",
    "d_Pt = 21.45\n",
    "\n",
    "Cv_Gd = 240 # Specific heat J/kg K\n",
    "Cv_Al2O3 = 451 # J/kg K\n",
    "Cv_Pt = 133 # J/kg K\n",
    "Cv_Ni = 445 # J/kg K\n",
    "Cv_Co = 421 # J/kg K\n",
    "Cv_NiO = 52.2/mm_NiO # Specific heat, J/(mol*K), should be 699 J/kg K\n",
    "\n",
    "n_O = ((7e-3)**2)*0.15e-9/a_Ni**3 # Number of oxygen atoms stripped away from NiO to form interfacial NiCo\n",
    "\n",
    "mol_NiO = (((7e-3)**2)*20e-9/a_NiO**3)/6.022e23"
   ]
  },
  {
   "cell_type": "code",
   "execution_count": 2,
   "metadata": {},
   "outputs": [
    {
     "data": {
      "text/plain": [
       "698.8625409678041"
      ]
     },
     "execution_count": 2,
     "metadata": {},
     "output_type": "execute_result"
    }
   ],
   "source": [
    "Cv_NiO"
   ]
  },
  {
   "cell_type": "code",
   "execution_count": 19,
   "metadata": {},
   "outputs": [],
   "source": [
    "energy_released = (n_O/3)*11.4 # Energy released in eV"
   ]
  },
  {
   "cell_type": "code",
   "execution_count": 20,
   "metadata": {},
   "outputs": [
    {
     "data": {
      "text/plain": [
       "0.00010246202338467315"
      ]
     },
     "execution_count": 20,
     "metadata": {},
     "output_type": "execute_result"
    }
   ],
   "source": [
    "energy_released*1.6e-19"
   ]
  },
  {
   "cell_type": "code",
   "execution_count": 21,
   "metadata": {},
   "outputs": [],
   "source": []
  },
  {
   "cell_type": "code",
   "execution_count": 24,
   "metadata": {},
   "outputs": [
    {
     "data": {
      "text/plain": [
       "88.72564584270702"
      ]
     },
     "execution_count": 24,
     "metadata": {},
     "output_type": "execute_result"
    }
   ],
   "source": [
    "(energy_released*1.6e-19)/(mol_NiO*Cv_NiO) # If all the energy released from the redox reaction went into the NiCoO, it would increase in temperature by ~89 C."
   ]
  },
  {
   "cell_type": "code",
   "execution_count": null,
   "metadata": {},
   "outputs": [],
   "source": []
  }
 ],
 "metadata": {
  "kernelspec": {
   "display_name": "Python 3",
   "language": "python",
   "name": "python3"
  },
  "language_info": {
   "codemirror_mode": {
    "name": "ipython",
    "version": 3
   },
   "file_extension": ".py",
   "mimetype": "text/x-python",
   "name": "python",
   "nbconvert_exporter": "python",
   "pygments_lexer": "ipython3",
   "version": "3.6.6"
  }
 },
 "nbformat": 4,
 "nbformat_minor": 2
}
