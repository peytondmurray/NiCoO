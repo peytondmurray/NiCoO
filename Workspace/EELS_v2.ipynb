{
 "cells": [
  {
   "cell_type": "markdown",
   "metadata": {},
   "source": [
    "The first round of EELS images were garbage that Junwei sent over. This is the second round of EELS analysis on the follow-up dataset. Please ignore the first."
   ]
  },
  {
   "cell_type": "code",
   "execution_count": 7,
   "metadata": {},
   "outputs": [],
   "source": [
    "import numpy as np\n",
    "import matplotlib.pyplot as plt"
   ]
  },
  {
   "cell_type": "markdown",
   "metadata": {},
   "source": [
    "# Methods"
   ]
  },
  {
   "cell_type": "code",
   "execution_count": 17,
   "metadata": {},
   "outputs": [],
   "source": [
    "def integrate_y(arr):\n",
    "    return np.sum(arr, axis=0)\n",
    "\n",
    "def normalize(arr):\n",
    "    return arr/np.max(arr)\n",
    "\n",
    "def arg_interface(arr):\n",
    "    return np.argmin(np.abs(arr-0.5))\n",
    "\n",
    "def origin_to_interface(x, arr):\n",
    "    return x-x[arg_interface(arr)]"
   ]
  },
  {
   "cell_type": "markdown",
   "metadata": {},
   "source": [
    "# Data"
   ]
  },
  {
   "cell_type": "code",
   "execution_count": 18,
   "metadata": {},
   "outputs": [],
   "source": [
    "root = 'C:/Users/pdmurray/Desktop/peyton/temp-nicoo/Figures/TEM/'\n",
    "path_AG = root+'AG/'\n",
    "path_FC = root+'FC/'\n",
    "path_VC = root+'VC/'\n",
    "\n",
    "AG_size_x = 20.43 # [nm]\n",
    "AG_Co = normalize(integrate_y(plt.imread(path_AG+'Co-Signal (776.0-850.0eV).png')))\n",
    "AG_Gd = normalize(integrate_y(plt.imread(path_AG+'Gd-Signal (1181.0-1385.0eV).png')))\n",
    "AG_Ni = normalize(integrate_y(plt.imread(path_AG+'Ni-Signal (844.0-918.0eV).png')))\n",
    "AG_O = normalize(integrate_y(plt.imread(path_AG+'O-Dynamic Map (537.0-756.0eV).png')))\n",
    "AG_x = origin_to_interface(np.linspace(0, AG_size_x, AG_O.shape[0]), AG_O)\n",
    "\n",
    "FC_size_x = 6.67 # [nm]\n",
    "FC_Co = normalize(integrate_y(plt.imread(path_FC+'Co-Dynamic Map (771.0-840.0eV).png')))\n",
    "FC_Gd = normalize(integrate_y(plt.imread(path_FC+'Gd-Dynamic Map (1179.0-1248.0eV).png')))\n",
    "FC_Ni = normalize(integrate_y(plt.imread(path_FC+'Ni-Signal (846.0-915.0eV).png')))\n",
    "FC_O = normalize(integrate_y(plt.imread(path_FC+'O-Signal (525.0-715.0eV).png')))\n",
    "FC_x = origin_to_interface(np.linspace(0, FC_size_x, FC_O.shape[0]), FC_O)\n",
    "\n",
    "VC_size_x = 20.50 # [nm]\n",
    "# VC_Co = normalize(integrate_y(plt.imread(path_VC+'')))\n",
    "VC_Gd = normalize(integrate_y(plt.imread(path_VC+'Gd-Dynamic Map (1182.0-1303.0eV).png')))\n",
    "VC_Ni = normalize(integrate_y(plt.imread(path_VC+'Ni-Signal (847.0-968.0eV).png')))\n",
    "VC_O = normalize(integrate_y(plt.imread(path_VC+'O-Dynamic Map (529.0-743.0eV).png')))\n",
    "VC_x = origin_to_interface(np.linspace(0, VC_size_x, VC_O.shape[0]), VC_O)"
   ]
  },
  {
   "cell_type": "code",
   "execution_count": null,
   "metadata": {},
   "outputs": [],
   "source": []
  }
 ],
 "metadata": {
  "kernelspec": {
   "display_name": "Python 3",
   "language": "python",
   "name": "python3"
  },
  "language_info": {
   "codemirror_mode": {
    "name": "ipython",
    "version": 3
   },
   "file_extension": ".py",
   "mimetype": "text/x-python",
   "name": "python",
   "nbconvert_exporter": "python",
   "pygments_lexer": "ipython3",
   "version": "3.6.5"
  }
 },
 "nbformat": 4,
 "nbformat_minor": 2
}
