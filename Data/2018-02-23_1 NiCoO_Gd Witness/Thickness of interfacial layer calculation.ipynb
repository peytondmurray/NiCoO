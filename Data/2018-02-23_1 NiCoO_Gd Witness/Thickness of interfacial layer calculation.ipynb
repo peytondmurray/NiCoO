{
 "cells": [
  {
   "cell_type": "markdown",
   "metadata": {},
   "source": [
    "Measured $M_s: 220\\times10^{-6} \\, \\mathrm{emu}/\\mathrm{cm}^3$\n",
    "\n",
    "Sample area: $0.537 \\mathrm{cm}^2$\n",
    "\n",
    "$M_s$ of NiCo: $0.5*(490+1400) \\, \\mathrm{emu}/\\mathrm{cm}^3$"
   ]
  },
  {
   "cell_type": "code",
   "execution_count": 2,
   "metadata": {},
   "outputs": [
    {
     "data": {
      "text/plain": [
       "4.335274353896328e-07"
      ]
     },
     "execution_count": 2,
     "metadata": {},
     "output_type": "execute_result"
    }
   ],
   "source": [
    "(220e-6)/(0.537*0.5*(490+1400))"
   ]
  }
 ],
 "metadata": {
  "kernelspec": {
   "display_name": "Python 3",
   "language": "python",
   "name": "python3"
  },
  "language_info": {
   "codemirror_mode": {
    "name": "ipython",
    "version": 3
   },
   "file_extension": ".py",
   "mimetype": "text/x-python",
   "name": "python",
   "nbconvert_exporter": "python",
   "pygments_lexer": "ipython3",
   "version": "3.6.4"
  }
 },
 "nbformat": 4,
 "nbformat_minor": 2
}
